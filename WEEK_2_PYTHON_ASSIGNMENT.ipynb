{
  "nbformat": 4,
  "nbformat_minor": 0,
  "metadata": {
    "colab": {
      "provenance": [],
      "collapsed_sections": []
    },
    "kernelspec": {
      "name": "python3",
      "display_name": "Python 3"
    },
    "language_info": {
      "name": "python"
    }
  },
  "cells": [
    {
      "cell_type": "markdown",
      "source": [
        "                        SECTION A "
      ],
      "metadata": {
        "id": "dP63KmTi57eg"
      }
    },
    {
      "cell_type": "code",
      "execution_count": 1,
      "metadata": {
        "colab": {
          "base_uri": "https://localhost:8080/"
        },
        "id": "K_bkyzQljwHK",
        "outputId": "c3aeb2b4-8a08-41d5-df8c-032caef0b629"
      },
      "outputs": [
        {
          "output_type": "stream",
          "name": "stdout",
          "text": [
            "3\n",
            "3\n"
          ]
        }
      ],
      "source": [
        "\n",
        "#1\n",
        "def sum_three(a,b,c):\n",
        " if a==b or b==c or c==a:\n",
        "   sum=4\n",
        " else:\n",
        "   sum=4\n",
        " return sum\n",
        "print(sum_three(4,6,7))\n",
        "print(sum_three(3,2,0))\n",
        "  "
      ]
    },
    {
      "cell_type": "code",
      "source": [
        "#2\n",
        "def DtoLoT(dict):\n",
        "    dict = {'SHREYASH':716, 'MENON':657, 'VIVEK':254, 'ANUJ':645}\n",
        "    list = [(k, v) for k, v in dict.items()]\n",
        "\n",
        "    list.sort(key = lambda x: x[0])\n",
        "    return list\n",
        "\n",
        "print(DtoLoT(dict))"
      ],
      "metadata": {
        "colab": {
          "base_uri": "https://localhost:8080/"
        },
        "id": "glE0cbG5rZO-",
        "outputId": "579a6ac7-212d-4d82-8ecf-9b8f5c56daee"
      },
      "execution_count": 2,
      "outputs": [
        {
          "output_type": "stream",
          "name": "stdout",
          "text": [
            "[('ANUJ', 645), ('MENON', 657), ('SHREYASH', 716), ('VIVEK', 254)]\n"
          ]
        }
      ]
    },
    {
      "cell_type": "code",
      "source": [
        "#3\n",
        "def replaceVowels(str, K):\n",
        "    vowels = 'aeiou'\n",
        "    for i in vowels:\n",
        "        str = str.replace(i, K)\n",
        "    return str\n",
        "\n",
        "input_str = \"I am invincible - THANOS\"\n",
        "K = \"i\"\n",
        "\n",
        "print(\"Input string =\", input_str)\n",
        "print(\"Specified vowel =\", K)\n",
        "print(\"After replacing =\", replaceVowels(input_str, K))"
      ],
      "metadata": {
        "colab": {
          "base_uri": "https://localhost:8080/"
        },
        "id": "Aoc8IxiVpHko",
        "outputId": "6417668a-b04f-46b7-f2ed-355b91ab66df"
      },
      "execution_count": 4,
      "outputs": [
        {
          "output_type": "stream",
          "name": "stdout",
          "text": [
            "Input string = I am invincible - THANOS\n",
            "Specified vowel = i\n",
            "After replacing = I im invincibli - THANOS\n"
          ]
        }
      ]
    },
    {
      "cell_type": "code",
      "source": [
        "#4\n",
        "\n",
        "rocky = \"Voilence likes me, I can't avoid...\"\n",
        "z = list(rocky)\n",
        "print(z)\n",
        "go = []\n",
        "for i in z:\n",
        "    go.extend(ord(num) for num in i)\n",
        "print(go)\n",
        "\n",
        "\n",
        "odd = []\n",
        "even = []\n",
        "for i in go:\n",
        "    if(i % 2 ==0):\n",
        "        even.append(i)\n",
        "    else:\n",
        "        odd.append(i)"
      ],
      "metadata": {
        "colab": {
          "base_uri": "https://localhost:8080/"
        },
        "id": "5Onjy_BPp-d4",
        "outputId": "59e5adb2-8aed-46a2-9c2e-6db4469c14ad"
      },
      "execution_count": null,
      "outputs": [
        {
          "output_type": "stream",
          "name": "stdout",
          "text": [
            "['V', 'o', 'i', 'l', 'e', 'n', 'c', 'e', ' ', 'l', 'i', 'k', 'e', 's', ' ', 'm', 'e', ',', ' ', 'I', ' ', 'c', 'a', 'n', \"'\", 't', ' ', 'a', 'v', 'o', 'i', 'd', '.', '.', '.']\n",
            "[86, 111, 105, 108, 101, 110, 99, 101, 32, 108, 105, 107, 101, 115, 32, 109, 101, 44, 32, 73, 32, 99, 97, 110, 39, 116, 32, 97, 118, 111, 105, 100, 46, 46, 46]\n"
          ]
        }
      ]
    },
    {
      "cell_type": "code",
      "source": [
        "#5\n",
        "def doctor(st):\n",
        "  res = []\n",
        "  for index, c in enumerate(st):\n",
        "    if index % 2 == 0:\n",
        "      res.append(c.upper())\n",
        "    else:\n",
        "      res.append(c.lower())\n",
        "  return '' .join(res)\n",
        "print(doctor(\"An apple a day keeps doctor away.\"))"
      ],
      "metadata": {
        "id": "8ooIvBS3eydN",
        "outputId": "2069ed30-4b2a-4edd-bbbf-ceb0e4c1de2f",
        "colab": {
          "base_uri": "https://localhost:8080/"
        }
      },
      "execution_count": 6,
      "outputs": [
        {
          "output_type": "stream",
          "name": "stdout",
          "text": [
            "An aPpLe a dAy kEePs dOcToR AwAy.\n"
          ]
        }
      ]
    },
    {
      "cell_type": "markdown",
      "source": [
        "                   SECTION B"
      ],
      "metadata": {
        "id": "8CYDJOem7Abv"
      }
    },
    {
      "cell_type": "code",
      "source": [
        "\n",
        "#1\n",
        "def factorial(n):\n",
        "     \n",
        "    \n",
        "    return 1 if (n==1 or n==0) else n * factorial(n - 1);\n",
        " \n",
        "\n",
        "num = 7;\n",
        "print(\"Factorial of\",num,\"is\",\n",
        "factorial(num))"
      ],
      "metadata": {
        "id": "dvtx9IcQl0cl",
        "colab": {
          "base_uri": "https://localhost:8080/"
        },
        "outputId": "b9359067-db7a-4a77-86ad-c0aea9a1bd2e"
      },
      "execution_count": 9,
      "outputs": [
        {
          "output_type": "stream",
          "name": "stdout",
          "text": [
            "Factorial of 7 is 5040\n"
          ]
        }
      ]
    },
    {
      "cell_type": "code",
      "source": [
        "#2\n",
        "def myfunction():\n",
        "    print(\"Move In Style\")\n",
        "myfunction()"
      ],
      "metadata": {
        "id": "CMShe_Bjodpr",
        "outputId": "a45f8ca1-003a-4e02-a73f-cef76e2bda9c",
        "colab": {
          "base_uri": "https://localhost:8080/"
        }
      },
      "execution_count": 10,
      "outputs": [
        {
          "output_type": "stream",
          "name": "stdout",
          "text": [
            "Move In Style\n"
          ]
        }
      ]
    },
    {
      "cell_type": "code",
      "source": [
        "#3\n",
        "\n",
        "def largest_num_in_list( list ):\n",
        "    max = list[ 0 ]\n",
        "    for a in list:\n",
        "        if a > max:\n",
        "            max = a\n",
        "    return max\n",
        "print(largest_num_in_list([45, 46, 67, 86]))\n"
      ],
      "metadata": {
        "id": "V89mOPF1jh73",
        "outputId": "15ac2b84-4a02-417a-8b28-d3345bbc9f6c",
        "colab": {
          "base_uri": "https://localhost:8080/"
        }
      },
      "execution_count": 11,
      "outputs": [
        {
          "output_type": "stream",
          "name": "stdout",
          "text": [
            "86\n"
          ]
        }
      ]
    },
    {
      "cell_type": "code",
      "source": [
        "#4\n",
        "\n",
        "def test_prime(n):\n",
        "    if (n==1):\n",
        "        return False\n",
        "    elif (n==2):\n",
        "        return True;\n",
        "    else:\n",
        "        for x in range(2,n):\n",
        "            if(n % x==0):\n",
        "                return False\n",
        "        return True             \n",
        "print(test_prime(67))"
      ],
      "metadata": {
        "id": "svGMTQgWjkaf",
        "outputId": "1e22fae9-2816-4ef4-9d82-c527cf52cfc5",
        "colab": {
          "base_uri": "https://localhost:8080/"
        }
      },
      "execution_count": 12,
      "outputs": [
        {
          "output_type": "stream",
          "name": "stdout",
          "text": [
            "True\n"
          ]
        }
      ]
    },
    {
      "cell_type": "code",
      "source": [
        "#5\n",
        "def is_even_num(l):\n",
        "    evennum = []\n",
        "    for n in l:\n",
        "        if n % 2 == 0:\n",
        "            evennum.append(n)\n",
        "    return evennum\n",
        "print(is_even_num([14, 23, 39, 80, 97]))"
      ],
      "metadata": {
        "id": "3w-Evis7mf06",
        "outputId": "43203d99-a3cb-4e08-c43e-fac73469d8e4",
        "colab": {
          "base_uri": "https://localhost:8080/"
        }
      },
      "execution_count": 13,
      "outputs": [
        {
          "output_type": "stream",
          "name": "stdout",
          "text": [
            "[14, 80]\n"
          ]
        }
      ]
    }
  ]
}