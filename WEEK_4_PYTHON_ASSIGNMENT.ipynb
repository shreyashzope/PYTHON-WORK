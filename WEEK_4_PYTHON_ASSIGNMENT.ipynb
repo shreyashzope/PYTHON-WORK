{
  "nbformat": 4,
  "nbformat_minor": 0,
  "metadata": {
    "colab": {
      "provenance": [],
      "collapsed_sections": []
    },
    "kernelspec": {
      "name": "python3",
      "display_name": "Python 3"
    },
    "language_info": {
      "name": "python"
    }
  },
  "cells": [
    {
      "cell_type": "code",
      "execution_count": 1,
      "metadata": {
        "colab": {
          "base_uri": "https://localhost:8080/"
        },
        "id": "i-Ern6vZkYP1",
        "outputId": "18be96d9-ebf4-41b8-c0de-cb536eaf6de9"
      },
      "outputs": [
        {
          "output_type": "stream",
          "name": "stdout",
          "text": [
            "230 25\n"
          ]
        }
      ],
      "source": [
        "#1.     Write a Python program to create a Vehicle class with max_speed and mileage instance attributes.\n",
        "\n",
        "class Vehicle:\n",
        "    def __init__(self, max_speed, mileage):\n",
        "        self.max_speed = max_speed\n",
        "        self.mileage = mileage\n",
        "        \n",
        "        \n",
        "car = Vehicle(230, 25)\n",
        "print(car.max_speed, car.mileage)\n"
      ]
    },
    {
      "cell_type": "code",
      "source": [
        "#2.     Create a Vehicle class without any variables and methods.\n",
        "class Vehicle:\n",
        "    pass"
      ],
      "metadata": {
        "id": "QoJQD5AhnlB7"
      },
      "execution_count": null,
      "outputs": []
    },
    {
      "cell_type": "code",
      "source": [
        "#3   Create a child class Bus that will inherit all of the variables and methods of the Vehicle class\n",
        "class Vehicle:\n",
        "\n",
        "    def __init__(self, name, max_speed, mileage):                \n",
        "        self.name = name\n",
        "        self.max_speed = max_speed\n",
        "        self.mileage = mileage"
      ],
      "metadata": {
        "id": "2kl5bUVgp5db"
      },
      "execution_count": null,
      "outputs": []
    },
    {
      "cell_type": "code",
      "source": [
        "#4  Create a Bus class that inherits from the Vehicle class. Give the capacity argument of Bus.seating_capacity() a default value of 50.\n",
        "\n",
        "class Vehicle:\n",
        "    def __init__(self, name, max_speed, mileage):\n",
        "        self.name = name\n",
        "        self.max_speed = max_speed\n",
        "        self.mileage = mileage\n",
        "\n",
        "    def seating_capacity(self, capacity):\n",
        "        return f\"The seating capacity of a {self.name} is {capacity} passengers\"\n"
      ],
      "metadata": {
        "id": "Mbj-9GMwmN1m"
      },
      "execution_count": null,
      "outputs": []
    },
    {
      "cell_type": "code",
      "source": [
        "#5  Create a Bus child class that inherits from the Vehicle class. The default fare charge of any vehicle is seating capacity * 100. If Vehicle is Bus instance, we need to add an extra 10% on full fare as a maintenance charge. So total fare for bus instance will become the final amount = total fare + 10% of the total fare.\n",
        " \n",
        "class Vehicle:\n",
        "    def __init__(self, name, mileage, capacity):\n",
        "        self.name = name\n",
        "        self.mileage = mileage\n",
        "        self.capacity = capacity\n",
        "\n",
        "    def fare(self):\n",
        "        return self.capacity * 100\n",
        "\n",
        "class Bus(Vehicle):\n",
        "    pass\n",
        "\n",
        "School_bus = Bus(\"School Mercedes\",10, 54)\n",
        "print(\"Total Bus fare is:\", School_bus.fare())"
      ],
      "metadata": {
        "id": "FAPQVvThrAx0",
        "colab": {
          "base_uri": "https://localhost:8080/"
        },
        "outputId": "282d940d-5993-4ec7-e2b1-dd1413e18481"
      },
      "execution_count": 2,
      "outputs": [
        {
          "output_type": "stream",
          "name": "stdout",
          "text": [
            "Total Bus fare is: 5400\n"
          ]
        }
      ]
    }
  ]
}